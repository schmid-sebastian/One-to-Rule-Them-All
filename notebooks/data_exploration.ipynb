{
 "cells": [
  {
   "cell_type": "code",
   "execution_count": null,
   "id": "ff9eac03-0cd6-4ca6-82a6-b585099a8da2",
   "metadata": {},
   "outputs": [],
   "source": [
    "import os\n",
    "import pandas as pd\n",
    "\n",
    "TEST_DATA_PATH = '../data/test/'\n",
    "test_logs = os.listdir(TEST_DATA_PATH)\n",
    "\n",
    "stats_list = []\n",
    "\n",
    "for test_log in test_logs:\n",
    "    # Load the test log as a DataFrame\n",
    "    df = pd.read_csv(os.path.join(TEST_DATA_PATH, test_log))\n",
    "    \n",
    "    # Compute the number of events per case\n",
    "    events_per_case = df.groupby('case_id').size()\n",
    "    \n",
    "    # Exclude cases with more than 150 events\n",
    "    valid_cases = events_per_case[events_per_case <= 150].index\n",
    "    df_filtered = df[df['case_id'].isin(valid_cases)]\n",
    "    \n",
    "    # Calculate key statistics on the filtered data\n",
    "    num_cases = df_filtered['case_id'].nunique()\n",
    "    total_events = len(df_filtered)\n",
    "    filtered_events_per_case = df_filtered.groupby('case_id').size()\n",
    "    avg_events_per_case = filtered_events_per_case.mean()\n",
    "    max_trace_length = filtered_events_per_case.max()\n",
    "    \n",
    "    # Collect the metrics into a dictionary\n",
    "    stats = {\n",
    "        'Test Log': test_log,\n",
    "        'Number of Cases': num_cases,\n",
    "        'Total Events': total_events,\n",
    "        'Average Events per Case': avg_events_per_case,\n",
    "        'Max Trace Length': max_trace_length\n",
    "    }\n",
    "    stats_list.append(stats)\n",
    "\n",
    "# Create a DataFrame with the collected statistics\n",
    "stats_df = pd.DataFrame(stats_list)"
   ]
  },
  {
   "cell_type": "code",
   "execution_count": null,
   "id": "462ebd66-a022-4677-90ce-595e6f021d59",
   "metadata": {},
   "outputs": [],
   "source": [
    "print(stats_df.sort_values(by=\"Test Log\").to_string(index=False))"
   ]
  },
  {
   "cell_type": "code",
   "execution_count": null,
   "id": "e189a500-c791-417e-b6c8-30e1398a59e7",
   "metadata": {},
   "outputs": [],
   "source": []
  }
 ],
 "metadata": {
  "kernelspec": {
   "display_name": "venv",
   "language": "python",
   "name": "venv"
  },
  "language_info": {
   "codemirror_mode": {
    "name": "ipython",
    "version": 3
   },
   "file_extension": ".py",
   "mimetype": "text/x-python",
   "name": "python",
   "nbconvert_exporter": "python",
   "pygments_lexer": "ipython3",
   "version": "3.12.0"
  }
 },
 "nbformat": 4,
 "nbformat_minor": 5
}
